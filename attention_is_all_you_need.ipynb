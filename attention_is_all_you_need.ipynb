{
 "cells": [
  {
   "cell_type": "markdown",
   "metadata": {
    "colab_type": "text",
    "id": "view-in-github"
   },
   "source": [
    "<a href=\"https://colab.research.google.com/github/NotDachun/nlp-transformers/blob/main/attention_is_all_you_need.ipynb\" target=\"_parent\"><img src=\"https://colab.research.google.com/assets/colab-badge.svg\" alt=\"Open In Colab\"/></a>"
   ]
  },
  {
   "cell_type": "markdown",
   "metadata": {
    "id": "sjEZ1OwKqQRS"
   },
   "source": [
    "Following along with this tutorial for implementing the paper \"Attention is All You Need\": https://nlp.seas.harvard.edu/2018/04/03/attention.html"
   ]
  },
  {
   "cell_type": "code",
   "execution_count": 2,
   "metadata": {
    "colab": {
     "base_uri": "https://localhost:8080/"
    },
    "id": "JwOvS7i9p2Hn",
    "outputId": "9eb9bf93-309d-46db-e417-a1ff66473244"
   },
   "outputs": [
    {
     "name": "stdout",
     "output_type": "stream",
     "text": [
      "Requirement already satisfied: torch in /usr/local/lib/python3.6/dist-packages (1.7.0+cu101)\n",
      "Requirement already satisfied: numpy in /usr/local/lib/python3.6/dist-packages (1.19.5)\n",
      "Requirement already satisfied: matplotlib in /usr/local/lib/python3.6/dist-packages (3.2.2)\n",
      "Requirement already satisfied: spacy in /usr/local/lib/python3.6/dist-packages (2.2.4)\n",
      "Requirement already satisfied: torchtext in /usr/local/lib/python3.6/dist-packages (0.3.1)\n",
      "Requirement already satisfied: seaborn in /usr/local/lib/python3.6/dist-packages (0.11.1)\n",
      "Requirement already satisfied: dataclasses in /usr/local/lib/python3.6/dist-packages (from torch) (0.8)\n",
      "Requirement already satisfied: typing-extensions in /usr/local/lib/python3.6/dist-packages (from torch) (3.7.4.3)\n",
      "Requirement already satisfied: future in /usr/local/lib/python3.6/dist-packages (from torch) (0.16.0)\n",
      "Requirement already satisfied: kiwisolver>=1.0.1 in /usr/local/lib/python3.6/dist-packages (from matplotlib) (1.3.1)\n",
      "Requirement already satisfied: pyparsing!=2.0.4,!=2.1.2,!=2.1.6,>=2.0.1 in /usr/local/lib/python3.6/dist-packages (from matplotlib) (2.4.7)\n",
      "Requirement already satisfied: cycler>=0.10 in /usr/local/lib/python3.6/dist-packages (from matplotlib) (0.10.0)\n",
      "Requirement already satisfied: python-dateutil>=2.1 in /usr/local/lib/python3.6/dist-packages (from matplotlib) (2.8.1)\n",
      "Requirement already satisfied: preshed<3.1.0,>=3.0.2 in /usr/local/lib/python3.6/dist-packages (from spacy) (3.0.5)\n",
      "Requirement already satisfied: srsly<1.1.0,>=1.0.2 in /usr/local/lib/python3.6/dist-packages (from spacy) (1.0.5)\n",
      "Requirement already satisfied: catalogue<1.1.0,>=0.0.7 in /usr/local/lib/python3.6/dist-packages (from spacy) (1.0.0)\n",
      "Requirement already satisfied: blis<0.5.0,>=0.4.0 in /usr/local/lib/python3.6/dist-packages (from spacy) (0.4.1)\n",
      "Requirement already satisfied: thinc==7.4.0 in /usr/local/lib/python3.6/dist-packages (from spacy) (7.4.0)\n",
      "Requirement already satisfied: murmurhash<1.1.0,>=0.28.0 in /usr/local/lib/python3.6/dist-packages (from spacy) (1.0.5)\n",
      "Requirement already satisfied: requests<3.0.0,>=2.13.0 in /usr/local/lib/python3.6/dist-packages (from spacy) (2.23.0)\n",
      "Requirement already satisfied: wasabi<1.1.0,>=0.4.0 in /usr/local/lib/python3.6/dist-packages (from spacy) (0.8.1)\n",
      "Requirement already satisfied: cymem<2.1.0,>=2.0.2 in /usr/local/lib/python3.6/dist-packages (from spacy) (2.0.5)\n",
      "Requirement already satisfied: plac<1.2.0,>=0.9.6 in /usr/local/lib/python3.6/dist-packages (from spacy) (1.1.3)\n",
      "Requirement already satisfied: tqdm<5.0.0,>=4.38.0 in /usr/local/lib/python3.6/dist-packages (from spacy) (4.41.1)\n",
      "Requirement already satisfied: setuptools in /usr/local/lib/python3.6/dist-packages (from spacy) (53.0.0)\n",
      "Requirement already satisfied: scipy>=1.0 in /usr/local/lib/python3.6/dist-packages (from seaborn) (1.4.1)\n",
      "Requirement already satisfied: pandas>=0.23 in /usr/local/lib/python3.6/dist-packages (from seaborn) (1.1.5)\n",
      "Requirement already satisfied: six in /usr/local/lib/python3.6/dist-packages (from cycler>=0.10->matplotlib) (1.15.0)\n",
      "Requirement already satisfied: importlib-metadata>=0.20; python_version < \"3.8\" in /usr/local/lib/python3.6/dist-packages (from catalogue<1.1.0,>=0.0.7->spacy) (3.4.0)\n",
      "Requirement already satisfied: certifi>=2017.4.17 in /usr/local/lib/python3.6/dist-packages (from requests<3.0.0,>=2.13.0->spacy) (2020.12.5)\n",
      "Requirement already satisfied: chardet<4,>=3.0.2 in /usr/local/lib/python3.6/dist-packages (from requests<3.0.0,>=2.13.0->spacy) (3.0.4)\n",
      "Requirement already satisfied: urllib3!=1.25.0,!=1.25.1,<1.26,>=1.21.1 in /usr/local/lib/python3.6/dist-packages (from requests<3.0.0,>=2.13.0->spacy) (1.24.3)\n",
      "Requirement already satisfied: idna<3,>=2.5 in /usr/local/lib/python3.6/dist-packages (from requests<3.0.0,>=2.13.0->spacy) (2.10)\n",
      "Requirement already satisfied: pytz>=2017.2 in /usr/local/lib/python3.6/dist-packages (from pandas>=0.23->seaborn) (2018.9)\n",
      "Requirement already satisfied: zipp>=0.5 in /usr/local/lib/python3.6/dist-packages (from importlib-metadata>=0.20; python_version < \"3.8\"->catalogue<1.1.0,>=0.0.7->spacy) (3.4.0)\n"
     ]
    }
   ],
   "source": [
    "!pip install torch numpy matplotlib spacy torchtext seaborn"
   ]
  },
  {
   "cell_type": "code",
   "execution_count": 3,
   "metadata": {
    "id": "M3dSly5VqzpN"
   },
   "outputs": [],
   "source": [
    "import numpy as np\r\n",
    "import torch\r\n",
    "import torch.nn as nn\r\n",
    "import torch.nn.functional as F\r\n",
    "import math, copy, time\r\n",
    "from torch.autograd import Variable\r\n",
    "import matplotlib.pyplot as plt\r\n",
    "import seaborn\r\n",
    "seaborn.set_context(context=\"talk\")\r\n",
    "%matplotlib inline"
   ]
  },
  {
   "cell_type": "code",
   "execution_count": 4,
   "metadata": {
    "id": "84tWT8eArODC"
   },
   "outputs": [],
   "source": [
    "class EncoderDecoder(nn.Module):\r\n",
    "    def __init__(self, encoder, decoder, src_embed, tgt_embed, generator):\r\n",
    "        super(EncoderDecoder, self).__init__()\r\n",
    "        self.encoder = encoder\r\n",
    "        self.decoder = decoder\r\n",
    "        self.src_embed = src_embed\r\n",
    "        self.tgt_embed = tgt_embed\r\n",
    "        self.generator = generator\r\n",
    "\r\n",
    "    def forward(self, src, tgt, src_mask, tgt_mask):\r\n",
    "        return self.decode(self.encode(src, src_mask), src_mask, tgt, tgt_mask)\r\n",
    "\r\n",
    "    def encode(self, src, src_mask):\r\n",
    "        return self.encoder(self.src_embed(src), src_mask)\r\n",
    "\r\n",
    "    def decode(self, memory, src_mask, tgt, tgt_mask):\r\n",
    "        return self.decoder(self.tgt_embed(tgt), memory, src_mask, tgt_mask)"
   ]
  },
  {
   "cell_type": "code",
   "execution_count": 5,
   "metadata": {
    "id": "d0FAMjvPtrmo"
   },
   "outputs": [],
   "source": [
    "class Generator(nn.Module):\r\n",
    "    def __init__(self, d_model, vocab):\r\n",
    "        super(Generator, self).__init__()\r\n",
    "        self.proj = nn.Linear(d_model, vocab)\r\n",
    "    \r\n",
    "    def forward(self, x):\r\n",
    "        return F.log_softmax(self.proj(x), dim=-1)"
   ]
  },
  {
   "cell_type": "code",
   "execution_count": 6,
   "metadata": {
    "id": "HCwTlQJ7t7yt"
   },
   "outputs": [],
   "source": [
    "def clones(module, N):\r\n",
    "    return nn.ModuleList([copy.deepcopy(module) for _ in range(N)])"
   ]
  },
  {
   "cell_type": "code",
   "execution_count": 7,
   "metadata": {
    "id": "BONazVaHudHP"
   },
   "outputs": [],
   "source": [
    "class Encoder(nn.Module):\r\n",
    "    def __init__(self, layer, N):\r\n",
    "        super(Encoder, self).__init__()\r\n",
    "        self.layers = clones(layer, N)\r\n",
    "        self.norm = LayerNorm(layer.size)\r\n",
    "    \r\n",
    "    def forward(self, x, mask):\r\n",
    "        for layer in self.layers:\r\n",
    "            x = layer(x, mask)\r\n",
    "        return self.norm(x)"
   ]
  },
  {
   "cell_type": "code",
   "execution_count": 8,
   "metadata": {
    "id": "jhJP101QSxj7"
   },
   "outputs": [],
   "source": [
    "class LayerNorm(nn.Module):\r\n",
    "    def __init__(self, features, eps=1e-6):\r\n",
    "        super(LayerNorm, self).__init__()\r\n",
    "        self.a_2 = nn.Parameter(torch.ones(features))\r\n",
    "        self.b_2 = nn.Parameter(torch.zeros(features))\r\n",
    "        self.eps = eps\r\n",
    "    \r\n",
    "    def forward(self, x):\r\n",
    "        mean = x.mean(-1, keepdim=True)\r\n",
    "        std = x.std(-1, keepdim=True)\r\n",
    "        return self.a_2 * (x - mean) / (std + self.eps) + self.b_2"
   ]
  },
  {
   "cell_type": "code",
   "execution_count": 9,
   "metadata": {
    "id": "rebwPxG7W6j3"
   },
   "outputs": [],
   "source": [
    "class SublayerConnection(nn.Module):\r\n",
    "    def __init__(self, size, dropout):\r\n",
    "        super(SublayerConnection, self).__init__()\r\n",
    "        self.norm = LayerNorm(size)\r\n",
    "        self.dropout = nn.Dropout(dropout)\r\n",
    "    \r\n",
    "    def forward(self, x, sublayer):\r\n",
    "        return x + self.dropout(sublayer(self.norm(x)))"
   ]
  },
  {
   "cell_type": "code",
   "execution_count": 51,
   "metadata": {
    "id": "2tYzvxTl0bNd"
   },
   "outputs": [],
   "source": [
    "class EncoderLayer(nn.Module):\r\n",
    "    def __init__(self, size, self_attn, feed_forward, dropout):\r\n",
    "        super(EncoderLayer, self).__init__()\r\n",
    "        self.self_attn = self_attn\r\n",
    "        self.feed_forward = feed_forward\r\n",
    "        self.sublayer = clones(SublayerConnection(size, dropout), 2)\r\n",
    "        self.size = size\r\n",
    "    \r\n",
    "    def forward(self, x, mask):\r\n",
    "        x = self.sublayer[0](x, lambda x: self.self_attn(x, x, x, mask))\r\n",
    "        return self.sublayer[1](x, self.feed_forward)"
   ]
  },
  {
   "cell_type": "code",
   "execution_count": 11,
   "metadata": {
    "id": "BbiNXU6j1Fxe"
   },
   "outputs": [],
   "source": [
    "class Decoder(nn.Module):\r\n",
    "    def __init__(self, layer, N):\r\n",
    "        super(Decoder, self).__init__()\r\n",
    "        self.layers = clones(layer, N)\r\n",
    "        self.norm = LayerNorm(layer.size)\r\n",
    "    \r\n",
    "    def forward(self, x, memory, src_mask, tgt_mask):\r\n",
    "        for layer in self.layers:\r\n",
    "            x = layer(x, memory, src_mask, tgt_mask)\r\n",
    "        return self.norm(x)"
   ]
  },
  {
   "cell_type": "code",
   "execution_count": 12,
   "metadata": {
    "id": "40hFiRj25m89"
   },
   "outputs": [],
   "source": [
    "class DecoderLayer(nn.Module):\r\n",
    "    def __init__(self, size, self_attn, src_attn, feed_forward, dropout):\r\n",
    "        super(DecoderLayer, self).__init__()\r\n",
    "        self.size = size\r\n",
    "        self.self_attn = self_attn\r\n",
    "        self.src_attn = src_attn\r\n",
    "        self.feed_forward = feed_forward\r\n",
    "        self.sublayer = clones(SublayerConnection(size, dropout), 3)\r\n",
    "    \r\n",
    "    def forward(self, x, memory, src_mask, tgt_mask):\r\n",
    "        m = memory\r\n",
    "        x = self.sublayer[0](x, lambda x: self.self_attn(x, x, x, tgt_mask))\r\n",
    "        x = self.sublayer[0](x, lambda x: self.src_attn(x, m, m, src_mask))\r\n",
    "        return self.sublayer[2](x, self.feed_forward)"
   ]
  },
  {
   "cell_type": "code",
   "execution_count": 13,
   "metadata": {
    "id": "L4zvdE3H6aRm"
   },
   "outputs": [],
   "source": [
    "def subsequent_mask(size):\r\n",
    "    attn_shape = (1, size, size)\r\n",
    "    subsequent_mask = np.tril(np.ones(attn_shape)).astype('uint8')\r\n",
    "    return torch.from_numpy(subsequent_mask)"
   ]
  },
  {
   "cell_type": "code",
   "execution_count": 14,
   "metadata": {
    "colab": {
     "base_uri": "https://localhost:8080/",
     "height": 350
    },
    "id": "QlweqQTf7UU5",
    "outputId": "18f27030-14de-4a6d-ede1-da35c7f09a42"
   },
   "outputs": [
    {
     "data": {
      "text/plain": [
       "<matplotlib.image.AxesImage at 0x7f5dcff26128>"
      ]
     },
     "execution_count": 14,
     "metadata": {
      "tags": []
     },
     "output_type": "execute_result"
    },
    {
     "data": {
      "image/png": "[encoded data removed]",
      "text/plain": [
       "<Figure size 360x360 with 1 Axes>"
      ]
     },
     "metadata": {
      "needs_background": "light",
      "tags": []
     },
     "output_type": "display_data"
    }
   ],
   "source": [
    "plt.figure(figsize=(5, 5))\r\n",
    "plt.imshow(subsequent_mask(20)[0])"
   ]
  },
  {
   "cell_type": "code",
   "execution_count": 15,
   "metadata": {
    "id": "QZQYpvkQ7y-8"
   },
   "outputs": [],
   "source": [
    "def attention(query, key, value, mask=None, dropout=None):\r\n",
    "    d_k = query.size(-1)\r\n",
    "    scores = torch.matmul(query, key.transpose(-2, -1)) / math.sqrt(d_k)\r\n",
    "    if mask is not None:\r\n",
    "        scores = scores.masked_fill(mask == 0, -1e9)\r\n",
    "    p_attn = F.softmax(scores, dim = -1)\r\n",
    "    if dropout is not None:\r\n",
    "        p_attn = dropout(p_attn)\r\n",
    "    return torch.matmul(p_attn, value), p_attn"
   ]
  },
  {
   "cell_type": "code",
   "execution_count": 26,
   "metadata": {
    "id": "rAXYvVAC9iDq"
   },
   "outputs": [],
   "source": [
    "class MultiHeadedAttention(nn.Module):\r\n",
    "    def __init__(self, h, d_model, dropout=0.1):\r\n",
    "        super(MultiHeadedAttention, self).__init__()\r\n",
    "        assert d_model % h == 0\r\n",
    "        self.d_k = d_model // h\r\n",
    "        self.h = h\r\n",
    "        self.linears = clones(nn.Linear(d_model, d_model), 4)\r\n",
    "        self.attn = None\r\n",
    "        self.dropout = nn.Dropout(p=dropout)\r\n",
    "\r\n",
    "    def forward(self, query, key, value, mask=None):\r\n",
    "        if mask is not none:\r\n",
    "            mask = mask.unsqueeze(1)\r\n",
    "        \r\n",
    "        nbatches = query.size(0)\r\n",
    "\r\n",
    "        query, key, value = \\\r\n",
    "            [l(x).view(nbatches, -1, self.h, self.d_k).transpose(1, 2)\r\n",
    "            for l, x in zip(self.linears, (query, key, value))]\r\n",
    "        \r\n",
    "        x, self.attn = attention(query, key, value, mask=mask, dropout=self.dropout)\r\n",
    "\r\n",
    "        x = x.tranpose(1, 2).continguous().view(nbatches, -1, self.h * self.d_k)\r\n",
    "        return self.linears[-1](x)"
   ]
  },
  {
   "cell_type": "code",
   "execution_count": 28,
   "metadata": {
    "id": "LQ6S-T44nCNh"
   },
   "outputs": [],
   "source": [
    "class PositionwiseFeedForward(nn.Module):\r\n",
    "    def __init__(self, d_model, d_ff, dropout=0.1):\r\n",
    "        super(PositionwiseFeedForward, self).__init__()\r\n",
    "        self.w_1 = nn.Linear(d_model, d_ff)\r\n",
    "        self.w_2 = nn.Linear(d_ff, d_model)\r\n",
    "        self.dropout = nn.Dropout(dropout)\r\n",
    "    \r\n",
    "    def forward(self, x):\r\n",
    "        return self.w_2(self.dropout(F.relu(self.w_1(x))))"
   ]
  },
  {
   "cell_type": "code",
   "execution_count": 29,
   "metadata": {
    "id": "-Q91pAMjoPXz"
   },
   "outputs": [],
   "source": [
    "class Embeddings(nn.Module):\r\n",
    "    def __init__(self, d_model, vocab):\r\n",
    "        super(Embeddings, self).__init__()\r\n",
    "        self.lut = nn.Embedding(vocab, d_model)\r\n",
    "        self.d_model = d_model\r\n",
    "    \r\n",
    "    def forward(self, x):\r\n",
    "        return self.lut(x) * mat.sqrt(self.d_model)"
   ]
  },
  {
   "cell_type": "code",
   "execution_count": 48,
   "metadata": {
    "id": "69mnbyQ5oryh"
   },
   "outputs": [],
   "source": [
    "class PositionalEncoding(nn.Module):\r\n",
    "    def __init__(self, d_model, dropout, max_len=5000):\r\n",
    "        super(PositionalEncoding, self).__init__()\r\n",
    "        self.dropout = nn.Dropout(p=dropout)\r\n",
    "\r\n",
    "        pe = torch.zeros(max_len, d_model)\r\n",
    "        position = torch.arange(0, max_len).unsqueeze(1)\r\n",
    "        div_term = torch.exp(torch.arange(0, d_model, 2) * -(math.log(10000.0) / d_model))\r\n",
    "        pe[:, 0::2] = torch.sin(position * div_term)\r\n",
    "        pe[:, 1::2] = torch.cos(position * div_term)\r\n",
    "        pe = pe.unsqueeze(0)\r\n",
    "        self.register_buffer('pe', pe)\r\n",
    "\r\n",
    "    def forward(self, x):\r\n",
    "        x = x + Variable(self.pe[:, :x.size(1)], requires_grad=False)\r\n",
    "        return self.dropout(x)"
   ]
  },
  {
   "cell_type": "code",
   "execution_count": 63,
   "metadata": {
    "id": "Ry3F-7Z_zm84"
   },
   "outputs": [],
   "source": [
    "def make_model(src_vocab, tgt_vocab, N=6, d_model=512, d_ff=2048, h=8, dropout=0.1):\r\n",
    "    c = copy.deepcopy\r\n",
    "    attn = MultiHeadedAttention(h, d_model)\r\n",
    "    ff = PositionwiseFeedForward(d_model, d_ff, dropout)\r\n",
    "    position = PositionalEncoding(d_model, dropout)\r\n",
    "    model = EncoderDecoder(\r\n",
    "        Encoder(EncoderLayer(d_model, c(attn), c(ff), dropout), N),\r\n",
    "        Decoder(DecoderLayer(d_model, c(attn), c(attn), c(ff), dropout), N),\r\n",
    "        nn.Sequential(Embeddings(d_model, src_vocab), c(position)),\r\n",
    "        nn.Sequential(Embeddings(d_model, tgt_vocab), c(position)),\r\n",
    "        Generator(d_model, tgt_vocab)\r\n",
    "    )\r\n",
    "\r\n",
    "    for p in model.parameters():\r\n",
    "        if p.dim() > 1:\r\n",
    "            nn.init.xavier_uniform(p)\r\n",
    "    return model"
   ]
  },
  {
   "cell_type": "code",
   "execution_count": 64,
   "metadata": {
    "colab": {
     "base_uri": "https://localhost:8080/"
    },
    "id": "rpf1207jyoLs",
    "outputId": "3605de66-be98-48a4-99d6-13b80aedfb66"
   },
   "outputs": [
    {
     "name": "stderr",
     "output_type": "stream",
     "text": [
      "/usr/local/lib/python3.6/dist-packages/ipykernel_launcher.py:16: UserWarning: nn.init.xavier_uniform is now deprecated in favor of nn.init.xavier_uniform_.\n",
      "  app.launch_new_instance()\n"
     ]
    }
   ],
   "source": [
    "# Small example model.\r\n",
    "tmp_model = make_model(10, 10, 2)"
   ]
  },
  {
   "cell_type": "code",
   "execution_count": 65,
   "metadata": {
    "id": "Rq5CuQM_0l_6"
   },
   "outputs": [],
   "source": [
    "class Batch:\r\n",
    "    \"Object for holding a batch of data with mask during training\"\r\n",
    "    def __init__(self, src, trg=None, pad=0):\r\n",
    "        self.src = src\r\n",
    "        self.src_mask = (src != pad).unsqueeze(-2)\r\n",
    "        if trg is not None:\r\n",
    "            self.trg = trg\r\n",
    "            self.trg_y = trg[:, 1:]\r\n",
    "            self.trg_mask = \\\r\n",
    "                self.make_std_mask(self.trg, pad)\r\n",
    "            self.ntokens = (self.trg_y != pad).data.sum()\r\n",
    "    \r\n",
    "    @staticmethod\r\n",
    "    def make_std_mask(tgt, pad):\r\n",
    "        \"Create a mask to hide padding and future words.\"\r\n",
    "        tgt_mask = (tgt != pad).unsqueeze(-2)\r\n",
    "        tgt_mask = tgt_mask & Variable(\r\n",
    "            subsequent_mask(tgt.size(-1)).type_as(tgt_mask.data))\r\n",
    "        return tgt_mask"
   ]
  },
  {
   "cell_type": "code",
   "execution_count": null,
   "metadata": {
    "id": "7Ga6OlPn1fu1"
   },
   "outputs": [],
   "source": []
  }
 ],
 "metadata": {
  "colab": {
   "authorship_tag": "ABX9TyNwg9vNoa03ni7Z5tyq3tSX",
   "collapsed_sections": [],
   "include_colab_link": true,
   "name": "attention_is_all_you_need.ipynb",
   "provenance": []
  },
  "kernelspec": {
   "display_name": "Python 3",
   "language": "python",
   "name": "python3"
  },
  "language_info": {
   "codemirror_mode": {
    "name": "ipython",
    "version": 3
   },
   "file_extension": ".py",
   "mimetype": "text/x-python",
   "name": "python",
   "nbconvert_exporter": "python",
   "pygments_lexer": "ipython3",
   "version": "3.8.5"
  }
 },
 "nbformat": 4,
 "nbformat_minor": 4
}

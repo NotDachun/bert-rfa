{
  "nbformat": 4,
  "nbformat_minor": 0,
  "metadata": {
    "colab": {
      "name": "pytorch_tutorial.ipynb",
      "provenance": [],
      "collapsed_sections": [],
      "authorship_tag": "ABX9TyO/py3KTqPoWxuIGAbRII6G",
      "include_colab_link": true
    },
    "kernelspec": {
      "name": "python3",
      "display_name": "Python 3"
    },
    "accelerator": "GPU",
    "widgets": {
      "application/vnd.jupyter.widget-state+json": {
        "8ae40e3ac6f940499bf2e33a8bb1471e": {
          "model_module": "@jupyter-widgets/controls",
          "model_name": "HBoxModel",
          "state": {
            "_view_name": "HBoxView",
            "_dom_classes": [],
            "_model_name": "HBoxModel",
            "_view_module": "@jupyter-widgets/controls",
            "_model_module_version": "1.5.0",
            "_view_count": null,
            "_view_module_version": "1.5.0",
            "box_style": "",
            "layout": "IPY_MODEL_1463260be39c40ad86b653f3a01142ab",
            "_model_module": "@jupyter-widgets/controls",
            "children": [
              "IPY_MODEL_07d9bc3b619945bbab210a90ba26eca2",
              "IPY_MODEL_a1553880057d4d818decfb67aa35ea96"
            ]
          }
        },
        "1463260be39c40ad86b653f3a01142ab": {
          "model_module": "@jupyter-widgets/base",
          "model_name": "LayoutModel",
          "state": {
            "_view_name": "LayoutView",
            "grid_template_rows": null,
            "right": null,
            "justify_content": null,
            "_view_module": "@jupyter-widgets/base",
            "overflow": null,
            "_model_module_version": "1.2.0",
            "_view_count": null,
            "flex_flow": null,
            "width": null,
            "min_width": null,
            "border": null,
            "align_items": null,
            "bottom": null,
            "_model_module": "@jupyter-widgets/base",
            "top": null,
            "grid_column": null,
            "overflow_y": null,
            "overflow_x": null,
            "grid_auto_flow": null,
            "grid_area": null,
            "grid_template_columns": null,
            "flex": null,
            "_model_name": "LayoutModel",
            "justify_items": null,
            "grid_row": null,
            "max_height": null,
            "align_content": null,
            "visibility": null,
            "align_self": null,
            "height": null,
            "min_height": null,
            "padding": null,
            "grid_auto_rows": null,
            "grid_gap": null,
            "max_width": null,
            "order": null,
            "_view_module_version": "1.2.0",
            "grid_template_areas": null,
            "object_position": null,
            "object_fit": null,
            "grid_auto_columns": null,
            "margin": null,
            "display": null,
            "left": null
          }
        },
        "07d9bc3b619945bbab210a90ba26eca2": {
          "model_module": "@jupyter-widgets/controls",
          "model_name": "FloatProgressModel",
          "state": {
            "_view_name": "ProgressView",
            "style": "IPY_MODEL_83cc9dc7d8db4268b57db12ec4b36ee3",
            "_dom_classes": [],
            "description": "100%",
            "_model_name": "FloatProgressModel",
            "bar_style": "success",
            "max": 46827520,
            "_view_module": "@jupyter-widgets/controls",
            "_model_module_version": "1.5.0",
            "value": 46827520,
            "_view_count": null,
            "_view_module_version": "1.5.0",
            "orientation": "horizontal",
            "min": 0,
            "description_tooltip": null,
            "_model_module": "@jupyter-widgets/controls",
            "layout": "IPY_MODEL_59b4d75e043f4f37b605f2a6dd7c8fe2"
          }
        },
        "a1553880057d4d818decfb67aa35ea96": {
          "model_module": "@jupyter-widgets/controls",
          "model_name": "HTMLModel",
          "state": {
            "_view_name": "HTMLView",
            "style": "IPY_MODEL_0926bc1a2be246f3bb5f71f447555ebd",
            "_dom_classes": [],
            "description": "",
            "_model_name": "HTMLModel",
            "placeholder": "​",
            "_view_module": "@jupyter-widgets/controls",
            "_model_module_version": "1.5.0",
            "value": " 44.7M/44.7M [03:32&lt;00:00, 220kB/s]",
            "_view_count": null,
            "_view_module_version": "1.5.0",
            "description_tooltip": null,
            "_model_module": "@jupyter-widgets/controls",
            "layout": "IPY_MODEL_290bf4df1ff74c538dc7d9eaf07c419c"
          }
        },
        "83cc9dc7d8db4268b57db12ec4b36ee3": {
          "model_module": "@jupyter-widgets/controls",
          "model_name": "ProgressStyleModel",
          "state": {
            "_view_name": "StyleView",
            "_model_name": "ProgressStyleModel",
            "description_width": "initial",
            "_view_module": "@jupyter-widgets/base",
            "_model_module_version": "1.5.0",
            "_view_count": null,
            "_view_module_version": "1.2.0",
            "bar_color": null,
            "_model_module": "@jupyter-widgets/controls"
          }
        },
        "59b4d75e043f4f37b605f2a6dd7c8fe2": {
          "model_module": "@jupyter-widgets/base",
          "model_name": "LayoutModel",
          "state": {
            "_view_name": "LayoutView",
            "grid_template_rows": null,
            "right": null,
            "justify_content": null,
            "_view_module": "@jupyter-widgets/base",
            "overflow": null,
            "_model_module_version": "1.2.0",
            "_view_count": null,
            "flex_flow": null,
            "width": null,
            "min_width": null,
            "border": null,
            "align_items": null,
            "bottom": null,
            "_model_module": "@jupyter-widgets/base",
            "top": null,
            "grid_column": null,
            "overflow_y": null,
            "overflow_x": null,
            "grid_auto_flow": null,
            "grid_area": null,
            "grid_template_columns": null,
            "flex": null,
            "_model_name": "LayoutModel",
            "justify_items": null,
            "grid_row": null,
            "max_height": null,
            "align_content": null,
            "visibility": null,
            "align_self": null,
            "height": null,
            "min_height": null,
            "padding": null,
            "grid_auto_rows": null,
            "grid_gap": null,
            "max_width": null,
            "order": null,
            "_view_module_version": "1.2.0",
            "grid_template_areas": null,
            "object_position": null,
            "object_fit": null,
            "grid_auto_columns": null,
            "margin": null,
            "display": null,
            "left": null
          }
        },
        "0926bc1a2be246f3bb5f71f447555ebd": {
          "model_module": "@jupyter-widgets/controls",
          "model_name": "DescriptionStyleModel",
          "state": {
            "_view_name": "StyleView",
            "_model_name": "DescriptionStyleModel",
            "description_width": "",
            "_view_module": "@jupyter-widgets/base",
            "_model_module_version": "1.5.0",
            "_view_count": null,
            "_view_module_version": "1.2.0",
            "_model_module": "@jupyter-widgets/controls"
          }
        },
        "290bf4df1ff74c538dc7d9eaf07c419c": {
          "model_module": "@jupyter-widgets/base",
          "model_name": "LayoutModel",
          "state": {
            "_view_name": "LayoutView",
            "grid_template_rows": null,
            "right": null,
            "justify_content": null,
            "_view_module": "@jupyter-widgets/base",
            "overflow": null,
            "_model_module_version": "1.2.0",
            "_view_count": null,
            "flex_flow": null,
            "width": null,
            "min_width": null,
            "border": null,
            "align_items": null,
            "bottom": null,
            "_model_module": "@jupyter-widgets/base",
            "top": null,
            "grid_column": null,
            "overflow_y": null,
            "overflow_x": null,
            "grid_auto_flow": null,
            "grid_area": null,
            "grid_template_columns": null,
            "flex": null,
            "_model_name": "LayoutModel",
            "justify_items": null,
            "grid_row": null,
            "max_height": null,
            "align_content": null,
            "visibility": null,
            "align_self": null,
            "height": null,
            "min_height": null,
            "padding": null,
            "grid_auto_rows": null,
            "grid_gap": null,
            "max_width": null,
            "order": null,
            "_view_module_version": "1.2.0",
            "grid_template_areas": null,
            "object_position": null,
            "object_fit": null,
            "grid_auto_columns": null,
            "margin": null,
            "display": null,
            "left": null
          }
        }
      }
    }
  },
  "cells": [
    {
      "cell_type": "markdown",
      "metadata": {
        "id": "view-in-github",
        "colab_type": "text"
      },
      "source": [
        "<a href=\"https://colab.research.google.com/github/NotDachun/nlp-transformers/blob/main/pytorch_tutorial.ipynb\" target=\"_parent\"><img src=\"https://colab.research.google.com/assets/colab-badge.svg\" alt=\"Open In Colab\"/></a>"
      ]
    },
    {
      "cell_type": "code",
      "metadata": {
        "id": "sY02d076Xqr2"
      },
      "source": [
        "import torch\r\n",
        "import numpy as np"
      ],
      "execution_count": null,
      "outputs": []
    },
    {
      "cell_type": "code",
      "metadata": {
        "colab": {
          "base_uri": "https://localhost:8080/"
        },
        "id": "4rjRQ-n4Y3IX",
        "outputId": "33fb58ff-973f-4ac0-8fa3-f367fb87d6b3"
      },
      "source": [
        "torch.cuda.is_available()"
      ],
      "execution_count": null,
      "outputs": [
        {
          "output_type": "execute_result",
          "data": {
            "text/plain": [
              "True"
            ]
          },
          "metadata": {
            "tags": []
          },
          "execution_count": 22
        }
      ]
    },
    {
      "cell_type": "code",
      "metadata": {
        "id": "DFpSaTrzXxH8"
      },
      "source": [
        "data = [[1, 2], [3, 4]]\r\n",
        "x_data = torch.tensor(data)"
      ],
      "execution_count": null,
      "outputs": []
    },
    {
      "cell_type": "code",
      "metadata": {
        "colab": {
          "base_uri": "https://localhost:8080/"
        },
        "id": "lzZs-FidX1PF",
        "outputId": "1c774211-53d5-43b4-ca43-a0656f170e41"
      },
      "source": [
        "x_data"
      ],
      "execution_count": null,
      "outputs": [
        {
          "output_type": "execute_result",
          "data": {
            "text/plain": [
              "tensor([[1, 2],\n",
              "        [3, 4]])"
            ]
          },
          "metadata": {
            "tags": []
          },
          "execution_count": 24
        }
      ]
    },
    {
      "cell_type": "code",
      "metadata": {
        "id": "4oUFvhJDX1mp"
      },
      "source": [
        "np_array = np.array(data)\r\n",
        "x_np = torch.from_numpy(np_array)"
      ],
      "execution_count": null,
      "outputs": []
    },
    {
      "cell_type": "code",
      "metadata": {
        "colab": {
          "base_uri": "https://localhost:8080/"
        },
        "id": "fyeNi2NuX8Ov",
        "outputId": "82461ab7-84d9-4c4f-ab0a-b814f5e0acf4"
      },
      "source": [
        "x_np"
      ],
      "execution_count": null,
      "outputs": [
        {
          "output_type": "execute_result",
          "data": {
            "text/plain": [
              "tensor([[1, 2],\n",
              "        [3, 4]])"
            ]
          },
          "metadata": {
            "tags": []
          },
          "execution_count": 26
        }
      ]
    },
    {
      "cell_type": "code",
      "metadata": {
        "colab": {
          "base_uri": "https://localhost:8080/"
        },
        "id": "iVG71jwXX80k",
        "outputId": "5370f520-9b7f-4f97-e96d-63a518e66d90"
      },
      "source": [
        "x_ones = torch.ones_like(x_data)\r\n",
        "print(f\"Ones Tensor: \\n {x_ones} \\n\")"
      ],
      "execution_count": null,
      "outputs": [
        {
          "output_type": "stream",
          "text": [
            "Ones Tensor: \n",
            " tensor([[1, 1],\n",
            "        [1, 1]]) \n",
            "\n"
          ],
          "name": "stdout"
        }
      ]
    },
    {
      "cell_type": "code",
      "metadata": {
        "colab": {
          "base_uri": "https://localhost:8080/"
        },
        "id": "3yZqJ4QWYGhp",
        "outputId": "162ae8d4-098a-4be7-b280-fff9e29c118f"
      },
      "source": [
        "x_rand = torch.rand_like(x_data, dtype=torch.float)\r\n",
        "print(f\"Random Tensor: \\n {x_rand} \\n\")"
      ],
      "execution_count": null,
      "outputs": [
        {
          "output_type": "stream",
          "text": [
            "Random Tensor: \n",
            " tensor([[0.3579, 0.8233],\n",
            "        [0.8140, 0.5464]]) \n",
            "\n"
          ],
          "name": "stdout"
        }
      ]
    },
    {
      "cell_type": "code",
      "metadata": {
        "colab": {
          "base_uri": "https://localhost:8080/"
        },
        "id": "AhfrrACgYOm2",
        "outputId": "b587e43b-7058-4ca4-f837-e9fc07ab5774"
      },
      "source": [
        "shape = (2, 3)\r\n",
        "rand_tensor = torch.rand(shape)\r\n",
        "ones_tensor = torch.ones(shape)\r\n",
        "zeros_tensor = torch.zeros(shape)\r\n",
        "\r\n",
        "print(f\"Random Tensor: \\n {rand_tensor} \\n\")\r\n",
        "print(f\"Ones Tensor: \\n {ones_tensor} \\n\")\r\n",
        "print(f\"Zeros Tensor: \\n {zeros_tensor} \\n\")"
      ],
      "execution_count": null,
      "outputs": [
        {
          "output_type": "stream",
          "text": [
            "Random Tensor: \n",
            " tensor([[0.8586, 0.5838, 0.9235],\n",
            "        [0.0060, 0.3896, 0.8332]]) \n",
            "\n",
            "Ones Tensor: \n",
            " tensor([[1., 1., 1.],\n",
            "        [1., 1., 1.]]) \n",
            "\n",
            "Zeros Tensor: \n",
            " tensor([[0., 0., 0.],\n",
            "        [0., 0., 0.]]) \n",
            "\n"
          ],
          "name": "stdout"
        }
      ]
    },
    {
      "cell_type": "code",
      "metadata": {
        "colab": {
          "base_uri": "https://localhost:8080/"
        },
        "id": "Ws55LMApYnL4",
        "outputId": "d84c433c-7184-42e4-cfc5-a89a31986336"
      },
      "source": [
        "tensor = torch.rand(3, 4)\r\n",
        "tensor.shape"
      ],
      "execution_count": null,
      "outputs": [
        {
          "output_type": "execute_result",
          "data": {
            "text/plain": [
              "torch.Size([3, 4])"
            ]
          },
          "metadata": {
            "tags": []
          },
          "execution_count": 30
        }
      ]
    },
    {
      "cell_type": "code",
      "metadata": {
        "colab": {
          "base_uri": "https://localhost:8080/"
        },
        "id": "7SEkiCgTYsi4",
        "outputId": "04e009ea-2fdd-4da1-9b6d-3f7a4dc4dd90"
      },
      "source": [
        "tensor.dtype"
      ],
      "execution_count": null,
      "outputs": [
        {
          "output_type": "execute_result",
          "data": {
            "text/plain": [
              "torch.float32"
            ]
          },
          "metadata": {
            "tags": []
          },
          "execution_count": 31
        }
      ]
    },
    {
      "cell_type": "code",
      "metadata": {
        "colab": {
          "base_uri": "https://localhost:8080/"
        },
        "id": "Xwa88BJTYtcW",
        "outputId": "4d34c676-6c26-4e73-cfd1-d9816bf382bc"
      },
      "source": [
        "tensor.device"
      ],
      "execution_count": null,
      "outputs": [
        {
          "output_type": "execute_result",
          "data": {
            "text/plain": [
              "device(type='cpu')"
            ]
          },
          "metadata": {
            "tags": []
          },
          "execution_count": 32
        }
      ]
    },
    {
      "cell_type": "code",
      "metadata": {
        "id": "2LPoLjCWYuCr"
      },
      "source": [
        "tensor = tensor.to('cuda')"
      ],
      "execution_count": null,
      "outputs": []
    },
    {
      "cell_type": "code",
      "metadata": {
        "colab": {
          "base_uri": "https://localhost:8080/"
        },
        "id": "eXGEJLKmY-3S",
        "outputId": "2c14df12-6d4a-4de7-aea2-cb13d8a6aa58"
      },
      "source": [
        "tensor.device"
      ],
      "execution_count": null,
      "outputs": [
        {
          "output_type": "execute_result",
          "data": {
            "text/plain": [
              "device(type='cuda', index=0)"
            ]
          },
          "metadata": {
            "tags": []
          },
          "execution_count": 34
        }
      ]
    },
    {
      "cell_type": "code",
      "metadata": {
        "colab": {
          "base_uri": "https://localhost:8080/"
        },
        "id": "W240ucv5Y_tj",
        "outputId": "b5af1804-af78-4d6b-8167-5b25f4f2e951"
      },
      "source": [
        "tensor"
      ],
      "execution_count": null,
      "outputs": [
        {
          "output_type": "execute_result",
          "data": {
            "text/plain": [
              "tensor([[0.5823, 0.2423, 0.5621, 0.0609],\n",
              "        [0.5314, 0.5501, 0.6293, 0.3358],\n",
              "        [0.2091, 0.1500, 0.9952, 0.3353]], device='cuda:0')"
            ]
          },
          "metadata": {
            "tags": []
          },
          "execution_count": 35
        }
      ]
    },
    {
      "cell_type": "code",
      "metadata": {
        "colab": {
          "base_uri": "https://localhost:8080/"
        },
        "id": "0s5DmGENZDk4",
        "outputId": "0ac1caf3-c03d-4224-d119-850ae7d947bb"
      },
      "source": [
        "tensor[:, 1]"
      ],
      "execution_count": null,
      "outputs": [
        {
          "output_type": "execute_result",
          "data": {
            "text/plain": [
              "tensor([0.2423, 0.5501, 0.1500], device='cuda:0')"
            ]
          },
          "metadata": {
            "tags": []
          },
          "execution_count": 36
        }
      ]
    },
    {
      "cell_type": "code",
      "metadata": {
        "colab": {
          "base_uri": "https://localhost:8080/"
        },
        "id": "yBYmfcbrZFKu",
        "outputId": "1babf66e-12f9-49cf-ecbb-906c1ff0088e"
      },
      "source": [
        "tensor = torch.ones(4, 4)\r\n",
        "tensor[:,1] = 0\r\n",
        "print(tensor)"
      ],
      "execution_count": null,
      "outputs": [
        {
          "output_type": "stream",
          "text": [
            "tensor([[1., 0., 1., 1.],\n",
            "        [1., 0., 1., 1.],\n",
            "        [1., 0., 1., 1.],\n",
            "        [1., 0., 1., 1.]])\n"
          ],
          "name": "stdout"
        }
      ]
    },
    {
      "cell_type": "code",
      "metadata": {
        "id": "qXCkaxd7ZNKZ"
      },
      "source": [
        "t1 = torch.cat([tensor, tensor, tensor], dim=1)"
      ],
      "execution_count": null,
      "outputs": []
    },
    {
      "cell_type": "code",
      "metadata": {
        "colab": {
          "base_uri": "https://localhost:8080/"
        },
        "id": "69oOnt-dZQaY",
        "outputId": "dd433bfd-8378-46f6-a3fa-6f6d8eeb2767"
      },
      "source": [
        "t1"
      ],
      "execution_count": null,
      "outputs": [
        {
          "output_type": "execute_result",
          "data": {
            "text/plain": [
              "tensor([[1., 0., 1., 1., 1., 0., 1., 1., 1., 0., 1., 1.],\n",
              "        [1., 0., 1., 1., 1., 0., 1., 1., 1., 0., 1., 1.],\n",
              "        [1., 0., 1., 1., 1., 0., 1., 1., 1., 0., 1., 1.],\n",
              "        [1., 0., 1., 1., 1., 0., 1., 1., 1., 0., 1., 1.]])"
            ]
          },
          "metadata": {
            "tags": []
          },
          "execution_count": 43
        }
      ]
    },
    {
      "cell_type": "code",
      "metadata": {
        "colab": {
          "base_uri": "https://localhost:8080/"
        },
        "id": "1XK_GjN_ZQvc",
        "outputId": "04a636b1-d1c2-4d1c-a250-483130f327ac"
      },
      "source": [
        "tensor.mul(tensor)"
      ],
      "execution_count": null,
      "outputs": [
        {
          "output_type": "execute_result",
          "data": {
            "text/plain": [
              "tensor([[1., 0., 1., 1.],\n",
              "        [1., 0., 1., 1.],\n",
              "        [1., 0., 1., 1.],\n",
              "        [1., 0., 1., 1.]])"
            ]
          },
          "metadata": {
            "tags": []
          },
          "execution_count": 44
        }
      ]
    },
    {
      "cell_type": "code",
      "metadata": {
        "colab": {
          "base_uri": "https://localhost:8080/"
        },
        "id": "tWXe-Zv_ZaHF",
        "outputId": "385ba19e-e8f8-4a4e-e57e-2727bcf33f87"
      },
      "source": [
        "tensor * tensor"
      ],
      "execution_count": null,
      "outputs": [
        {
          "output_type": "execute_result",
          "data": {
            "text/plain": [
              "tensor([[1., 0., 1., 1.],\n",
              "        [1., 0., 1., 1.],\n",
              "        [1., 0., 1., 1.],\n",
              "        [1., 0., 1., 1.]])"
            ]
          },
          "metadata": {
            "tags": []
          },
          "execution_count": 45
        }
      ]
    },
    {
      "cell_type": "code",
      "metadata": {
        "colab": {
          "base_uri": "https://localhost:8080/"
        },
        "id": "i9-NAUoMZbfr",
        "outputId": "0daee6ba-609d-4b50-a022-52ebe3f5d486"
      },
      "source": [
        "ones = torch.ones(2, 2)\r\n",
        "rand = torch.rand(2, 2)\r\n",
        "\r\n",
        "print(ones)\r\n",
        "print(rand)\r\n",
        "print(ones * rand)"
      ],
      "execution_count": null,
      "outputs": [
        {
          "output_type": "stream",
          "text": [
            "tensor([[1., 1.],\n",
            "        [1., 1.]])\n",
            "tensor([[0.9624, 0.0324],\n",
            "        [0.2938, 0.7065]])\n",
            "tensor([[0.9624, 0.0324],\n",
            "        [0.2938, 0.7065]])\n"
          ],
          "name": "stdout"
        }
      ]
    },
    {
      "cell_type": "code",
      "metadata": {
        "colab": {
          "base_uri": "https://localhost:8080/"
        },
        "id": "54VwP0GCZkNE",
        "outputId": "4385c2f3-393b-4839-9c59-7ef3e131bb2e"
      },
      "source": [
        "tensor + 5"
      ],
      "execution_count": null,
      "outputs": [
        {
          "output_type": "execute_result",
          "data": {
            "text/plain": [
              "tensor([[6., 5., 6., 6.],\n",
              "        [6., 5., 6., 6.],\n",
              "        [6., 5., 6., 6.],\n",
              "        [6., 5., 6., 6.]])"
            ]
          },
          "metadata": {
            "tags": []
          },
          "execution_count": 50
        }
      ]
    },
    {
      "cell_type": "markdown",
      "metadata": {
        "id": "oXIn_vaJan12"
      },
      "source": [
        "autograd tutorial"
      ]
    },
    {
      "cell_type": "code",
      "metadata": {
        "colab": {
          "base_uri": "https://localhost:8080/",
          "height": 103,
          "referenced_widgets": [
            "8ae40e3ac6f940499bf2e33a8bb1471e",
            "1463260be39c40ad86b653f3a01142ab",
            "07d9bc3b619945bbab210a90ba26eca2",
            "a1553880057d4d818decfb67aa35ea96",
            "83cc9dc7d8db4268b57db12ec4b36ee3",
            "59b4d75e043f4f37b605f2a6dd7c8fe2",
            "0926bc1a2be246f3bb5f71f447555ebd",
            "290bf4df1ff74c538dc7d9eaf07c419c"
          ]
        },
        "id": "vuZUtZofZxwC",
        "outputId": "4365e154-af9e-48c4-c3a3-ede4f650c74b"
      },
      "source": [
        "import torchvision\r\n",
        "model = torchvision.models.resnet18(pretrained=True)\r\n",
        "data = torch.rand(1, 3, 64, 64)\r\n",
        "labels = torch.rand(1, 1000)"
      ],
      "execution_count": null,
      "outputs": [
        {
          "output_type": "stream",
          "text": [
            "Downloading: \"https://download.pytorch.org/models/resnet18-5c106cde.pth\" to /root/.cache/torch/hub/checkpoints/resnet18-5c106cde.pth\n"
          ],
          "name": "stderr"
        },
        {
          "output_type": "display_data",
          "data": {
            "application/vnd.jupyter.widget-view+json": {
              "model_id": "8ae40e3ac6f940499bf2e33a8bb1471e",
              "version_minor": 0,
              "version_major": 2
            },
            "text/plain": [
              "HBox(children=(FloatProgress(value=0.0, max=46827520.0), HTML(value='')))"
            ]
          },
          "metadata": {
            "tags": []
          }
        },
        {
          "output_type": "stream",
          "text": [
            "\n"
          ],
          "name": "stdout"
        }
      ]
    },
    {
      "cell_type": "code",
      "metadata": {
        "colab": {
          "base_uri": "https://localhost:8080/",
          "height": 285
        },
        "id": "NSh3UGJAazr0",
        "outputId": "c73ab35b-00e3-4b06-c2b4-6b85975e1eff"
      },
      "source": [
        "from matplotlib.pyplot import imshow\r\n",
        "\r\n",
        "im2display = data[0].permute((1, 2, 0))\r\n",
        "imshow(im2display, interpolation=\"nearest\")"
      ],
      "execution_count": null,
      "outputs": [
        {
          "output_type": "execute_result",
          "data": {
            "text/plain": [
              "<matplotlib.image.AxesImage at 0x7f6170d52cc0>"
            ]
          },
          "metadata": {
            "tags": []
          },
          "execution_count": 63
        },
        {
          "output_type": "display_data",
          "data": {
            "image/png": "[encoded data removed]",
            "text/plain": [
              "<Figure size 432x288 with 1 Axes>"
            ]
          },
          "metadata": {
            "tags": [],
            "needs_background": "light"
          }
        }
      ]
    },
    {
      "cell_type": "code",
      "metadata": {
        "id": "oMx6yLTcbUH9"
      },
      "source": [
        "prediction = model(data)"
      ],
      "execution_count": null,
      "outputs": []
    },
    {
      "cell_type": "code",
      "metadata": {
        "colab": {
          "base_uri": "https://localhost:8080/"
        },
        "id": "biOEXwh9bqZp",
        "outputId": "46599131-2e39-470a-ab2c-62b39b3edc06"
      },
      "source": [
        "prediction"
      ],
      "execution_count": null,
      "outputs": [
        {
          "output_type": "execute_result",
          "data": {
            "text/plain": [
              "tensor([[-3.0096e-01, -2.8487e-01, -3.3177e-01, -1.2886e+00, -5.1865e-01,\n",
              "         -2.6389e-01, -2.6549e-01,  5.1482e-01,  3.4984e-01, -8.2099e-01,\n",
              "         -1.0654e+00, -7.8381e-01, -1.2213e-01, -1.0454e+00, -1.0854e+00,\n",
              "         -7.2242e-01, -8.9738e-01, -3.6910e-01, -8.7022e-01, -8.2953e-01,\n",
              "         -1.8435e+00, -4.6739e-01, -1.6484e+00,  2.5429e-01, -1.2155e+00,\n",
              "         -1.1284e+00, -8.9830e-01, -1.1942e+00, -8.8148e-01, -5.1411e-01,\n",
              "         -1.0563e+00, -1.0677e+00, -6.0978e-01, -3.8199e-01, -3.9123e-01,\n",
              "         -4.8612e-01,  5.9733e-01, -6.7536e-01, -4.1285e-01, -8.8056e-02,\n",
              "         -8.7551e-01, -7.5248e-01, -1.1602e+00, -3.0399e-01, -6.9661e-01,\n",
              "         -1.8032e-01, -9.0690e-01, -5.9144e-01, -1.1754e+00, -1.1437e+00,\n",
              "         -5.0189e-01,  8.4986e-01, -1.6994e-01, -3.7980e-01,  1.4124e-02,\n",
              "         -1.2266e+00, -7.5911e-02, -1.2511e+00, -3.6566e-01, -5.1622e-01,\n",
              "          7.4451e-01,  2.0597e-01, -8.7516e-02,  4.2885e-01, -5.6684e-01,\n",
              "          3.3558e-02, -1.5433e-01, -2.6962e-01, -8.1905e-01, -1.2521e+00,\n",
              "         -1.5320e+00, -1.7367e-02, -1.3603e+00, -2.1734e-01, -1.1981e+00,\n",
              "         -1.2263e+00,  2.5951e-01, -7.6029e-01,  3.4719e-01,  1.2992e-01,\n",
              "         -8.3991e-01, -1.4290e+00,  1.8328e-02, -7.9208e-01, -8.4806e-01,\n",
              "          7.0253e-02,  3.0481e-01,  3.9648e-01, -7.1141e-02, -7.2706e-01,\n",
              "         -1.1163e+00, -9.5324e-01, -2.0992e+00, -3.8651e-01,  5.1279e-02,\n",
              "         -2.1761e+00, -7.9091e-01, -5.3986e-01, -1.5525e+00, -4.0340e-01,\n",
              "         -1.3282e+00, -8.3706e-01, -6.2913e-01, -3.0096e-01,  2.0913e-02,\n",
              "         -7.9583e-01, -4.8165e-01, -1.1354e+00, -1.0756e+00, -1.6328e+00,\n",
              "         -1.4817e+00, -8.9140e-01,  1.1447e+00,  1.5758e-01,  1.3559e-01,\n",
              "         -1.1664e+00, -9.7487e-01, -2.6065e-01,  7.2114e-01, -4.9557e-01,\n",
              "         -9.7434e-01,  1.6620e-01,  6.9693e-01,  2.9614e-01,  1.3517e+00,\n",
              "         -2.1856e-01,  3.8390e-01, -1.2732e+00, -1.1613e+00, -1.0203e+00,\n",
              "         -1.1320e+00, -1.4782e+00, -1.0841e+00, -1.5320e+00, -5.2370e-01,\n",
              "         -1.1599e+00, -1.0177e+00, -1.1631e+00, -1.2288e+00, -1.7603e+00,\n",
              "         -1.8138e+00, -1.6355e+00, -2.2402e+00, -1.8419e+00, -9.0641e-01,\n",
              "         -5.6023e-01, -1.2173e+00, -2.1342e+00, -1.4969e+00, -1.1821e+00,\n",
              "          1.7765e-01,  1.6307e+00, -1.0179e+00, -2.7981e-01, -3.7539e-02,\n",
              "          5.6628e-03, -2.1805e-01,  1.2935e-01,  3.6171e-01,  3.7481e-01,\n",
              "          1.8488e-01,  5.4353e-01,  2.4189e-01,  5.1539e-01, -2.3502e-02,\n",
              "         -2.4881e-01, -1.9361e-01, -4.8446e-01,  5.3573e-01, -2.7626e-01,\n",
              "         -2.6075e-01,  1.0969e+00,  1.3635e-01,  2.3051e-01, -2.9272e-02,\n",
              "         -1.0905e+00, -3.8744e-01, -2.6920e-01,  7.1759e-01,  6.9815e-01,\n",
              "          6.3420e-01, -8.9820e-03,  6.1562e-01,  7.2931e-02,  9.0192e-01,\n",
              "          9.2450e-01,  7.6473e-01,  2.1769e-01,  3.6315e-01,  3.8153e-01,\n",
              "         -5.3093e-01,  4.8774e-01,  4.8635e-01,  7.7212e-01, -1.0766e+00,\n",
              "          7.1780e-01,  1.5478e-01,  8.7117e-02,  1.2605e-01,  5.8036e-01,\n",
              "         -5.0292e-02,  2.9232e-02,  5.9770e-01,  6.6796e-01,  2.0466e-01,\n",
              "          1.1574e-01, -9.3308e-02,  4.0108e-01,  1.1077e+00,  6.8248e-01,\n",
              "         -6.5350e-02,  3.7344e-01,  2.0947e-01,  4.7572e-02, -2.8340e-01,\n",
              "          4.1279e-01, -2.1120e-02,  2.6194e-01, -2.1374e-01,  3.1703e-01,\n",
              "          2.5501e-01, -1.8225e-01, -1.2683e-01,  9.4241e-01,  3.9963e-01,\n",
              "          4.4181e-01,  6.4955e-03,  7.5826e-01, -3.8220e-01, -2.5173e-01,\n",
              "          1.6073e-01,  2.3991e-01,  5.3167e-01, -4.5991e-02,  8.2828e-01,\n",
              "          6.1097e-01,  4.9585e-01,  5.0710e-01,  7.1541e-01, -3.4904e-02,\n",
              "          5.7001e-01,  7.2685e-02,  6.8891e-01,  2.6263e-01, -6.1785e-01,\n",
              "          4.5924e-01,  3.3171e-01,  1.6158e-01,  4.0145e-01,  7.1034e-02,\n",
              "          3.4025e-01,  7.9350e-01, -6.7154e-01,  4.4903e-01,  8.9009e-01,\n",
              "         -7.8150e-01,  5.3065e-01,  2.3854e-01,  7.3702e-02,  2.4645e-01,\n",
              "         -1.8559e-01, -6.4273e-01, -3.2349e-01,  4.9617e-01,  5.2965e-01,\n",
              "          8.0460e-01,  3.6998e-01,  3.3079e-01, -1.3615e-01, -6.6924e-01,\n",
              "         -9.2383e-01, -8.7937e-01, -7.3431e-01,  6.1635e-01, -1.0091e+00,\n",
              "         -1.2042e+00, -1.2411e+00, -7.5389e-01, -1.3376e+00, -5.4778e-01,\n",
              "         -2.5775e-01,  6.2158e-01,  6.2089e-01, -9.1118e-04,  3.0274e-01,\n",
              "          7.8752e-01, -2.8847e-01, -2.1434e-01, -6.7205e-01, -1.7550e+00,\n",
              "         -8.8358e-01, -1.3382e+00, -3.5917e-01, -1.0002e+00, -9.2873e-01,\n",
              "         -8.3117e-01, -1.1557e+00, -1.3244e+00, -2.5856e-02, -3.1105e-02,\n",
              "         -2.0229e+00, -9.8695e-01, -5.7513e-01, -3.6732e-01, -1.3724e+00,\n",
              "         -1.0827e+00, -1.2396e-01, -1.0451e+00, -1.3252e+00, -5.3751e-01,\n",
              "         -3.9002e-02, -3.5334e-01, -4.6470e-01,  2.4698e-01,  6.3900e-01,\n",
              "         -7.3249e-01, -9.5163e-01, -1.2596e+00, -1.0544e+00, -7.2093e-01,\n",
              "         -1.6339e+00, -1.1689e+00, -1.0582e+00, -1.4554e+00, -1.5312e+00,\n",
              "         -1.2225e+00, -1.0275e+00,  2.8287e-02, -4.3226e-02, -3.8009e-01,\n",
              "         -4.4047e-02, -1.8759e-01,  2.9757e-01, -2.4700e-02, -3.4181e-01,\n",
              "         -7.6984e-01, -1.6466e+00,  3.0054e-01,  6.0059e-01, -1.0651e+00,\n",
              "         -3.5818e-01,  6.9483e-01, -2.3878e-01, -1.4398e+00, -5.0723e-01,\n",
              "          7.6592e-01, -7.3583e-01, -1.4404e+00, -2.5773e-01, -1.3412e+00,\n",
              "         -1.2527e+00, -2.1654e+00, -1.2112e+00, -6.9442e-01, -7.6776e-01,\n",
              "          3.4159e-01,  1.2775e+00,  2.4177e-01,  5.3484e-01,  5.6218e-01,\n",
              "         -4.2028e-01,  6.5318e-01,  1.1324e-01,  6.7779e-01, -8.6961e-01,\n",
              "         -6.5867e-01, -1.1754e+00, -7.4644e-01, -1.1599e+00, -1.1513e+00,\n",
              "         -9.2523e-01, -4.6812e-01, -6.3134e-01, -3.1010e-01, -5.0039e-01,\n",
              "         -1.3135e+00, -1.3458e+00, -3.1309e-02, -5.5780e-01, -7.0158e-01,\n",
              "          2.0116e-01, -5.8371e-01, -2.8924e-01, -4.4387e-01, -8.6482e-01,\n",
              "         -4.6270e-01, -1.1777e+00, -8.4358e-01, -9.4809e-01,  1.1236e-01,\n",
              "          7.3501e-01,  4.7240e-01, -1.3776e+00, -1.6642e+00,  7.8031e-02,\n",
              "          7.2876e-01, -6.9427e-01, -5.2304e-01,  5.6010e-01,  1.3982e-01,\n",
              "         -5.7917e-01,  7.0109e-01,  2.9987e-01, -2.3691e+00, -1.9015e+00,\n",
              "         -3.7413e-01, -4.7057e-02, -3.9478e-01, -3.2327e-01,  8.2148e-01,\n",
              "          5.1504e-02,  4.1724e-01,  2.3001e+00,  9.9713e-01,  4.4474e-01,\n",
              "          6.0529e-01, -1.8949e-01,  3.7439e-01,  2.1404e-01,  1.3210e+00,\n",
              "          6.3391e-01,  1.2313e+00,  1.1039e-01,  1.8668e-01, -1.0167e-01,\n",
              "         -1.0952e+00,  1.1009e-01,  1.6773e+00,  1.5678e+00,  6.6030e-01,\n",
              "         -1.7134e-01,  7.6087e-02,  2.6777e-01,  9.1857e-01,  5.5391e-01,\n",
              "          8.6384e-01, -2.0227e-01, -7.8141e-01,  5.3480e-01,  3.6377e-01,\n",
              "          1.1169e+00,  8.0470e-01,  5.2637e-02, -6.2429e-01, -2.1534e-01,\n",
              "          1.3210e-01,  2.6801e-01,  1.5615e+00,  8.8938e-01, -9.8211e-01,\n",
              "          2.9399e-01,  5.4221e-01,  9.5330e-01, -3.0147e-01, -5.6837e-01,\n",
              "          6.9812e-01,  1.6494e+00,  1.4616e+00, -2.2912e-01,  5.3124e-01,\n",
              "         -8.9992e-01,  6.5086e-01,  1.6381e+00,  2.4882e+00,  9.3349e-01,\n",
              "         -2.8076e-01, -1.0609e+00, -1.3626e-01,  1.1833e-01,  1.5120e+00,\n",
              "          1.3618e+00,  5.3760e-01,  1.4913e-01,  9.6942e-01, -3.5650e-01,\n",
              "          1.9323e-01,  1.3339e-01,  3.2811e-01,  6.7478e-01,  4.9985e-01,\n",
              "          9.1221e-03,  6.2297e-02,  1.8724e-01, -9.2533e-01, -1.6842e+00,\n",
              "         -1.4078e-01, -3.2449e-02,  1.0684e+00,  1.3336e+00,  1.0683e+00,\n",
              "          7.7357e-01,  7.3388e-01,  9.1210e-01, -1.1747e+00,  1.5263e+00,\n",
              "         -1.0476e+00,  1.5382e-01, -6.2114e-01, -4.4628e-01,  1.1381e+00,\n",
              "         -1.4855e+00,  5.8118e-01,  1.6041e+00,  4.2986e-01,  1.0348e+00,\n",
              "          1.1155e+00,  8.7252e-01,  8.0950e-01,  3.2261e-01,  2.5187e-01,\n",
              "         -1.4952e+00, -8.1875e-01,  8.6976e-01,  4.6242e-01,  1.4244e+00,\n",
              "          1.9537e+00,  6.5223e-01, -2.6211e-02,  1.6583e+00,  8.1477e-01,\n",
              "         -6.0924e-01,  2.1002e-01,  1.1668e+00,  1.7978e+00,  5.6312e-01,\n",
              "         -9.9458e-01, -7.4858e-02, -5.1360e-01,  2.5858e-02, -9.6456e-02,\n",
              "          1.0460e+00, -4.7147e-02,  1.6026e-01, -1.0346e+00,  5.5376e-01,\n",
              "         -3.1701e-01, -8.5407e-01, -7.6402e-01, -1.2779e-02,  1.3801e+00,\n",
              "         -1.2884e+00,  1.5727e+00,  1.0096e+00,  1.0493e+00,  3.6200e-01,\n",
              "          1.2092e+00,  6.0690e-01, -1.8950e+00, -1.3277e+00, -9.0574e-02,\n",
              "         -6.7191e-01, -1.2025e-01,  8.6799e-01, -1.5073e-01, -1.8155e+00,\n",
              "         -5.5827e-01,  4.3355e-01,  5.8492e-01,  1.1456e+00,  1.0712e+00,\n",
              "          8.2028e-02, -4.2534e-02,  5.6973e-01,  3.0768e-01, -1.3456e+00,\n",
              "         -6.3176e-01,  2.0474e-01,  8.7854e-01,  3.2785e-01, -3.8827e-01,\n",
              "          1.4862e+00,  8.7955e-02,  1.0736e+00, -5.8516e-01,  7.7349e-01,\n",
              "         -3.3987e-02, -9.1145e-01,  1.1260e+00,  4.7789e-01, -1.2352e-01,\n",
              "          1.2958e-01, -1.0915e-01,  6.3885e-01,  9.1904e-01,  8.7794e-01,\n",
              "          7.2405e-01, -3.6127e-01,  1.7246e+00,  1.2112e+00,  1.3307e+00,\n",
              "         -7.7620e-01,  5.3745e-01, -9.3180e-01,  6.3748e-01,  3.5290e-01,\n",
              "         -7.3349e-01,  1.2477e+00, -2.6633e-01, -5.5247e-01,  1.0925e+00,\n",
              "          2.0918e+00,  1.8608e-01,  1.6293e-02, -5.9453e-01,  7.1228e-01,\n",
              "          1.5228e-01,  1.2417e+00, -1.7864e-01,  5.9336e-01, -9.2089e-02,\n",
              "          9.3518e-01,  1.0015e+00, -5.6534e-01,  7.3186e-01,  3.4922e-01,\n",
              "          5.9345e-01,  1.0097e+00,  5.4779e-01,  1.7757e+00,  1.2603e+00,\n",
              "          1.0680e+00,  6.2616e-01,  2.1401e-01,  1.6683e-01,  4.3077e-02,\n",
              "         -1.2294e+00,  1.0250e+00, -1.3755e-01, -1.4482e+00,  2.7224e-01,\n",
              "          1.3896e-01,  8.6845e-01,  7.3225e-01,  1.0387e+00, -8.5243e-02,\n",
              "          8.8467e-02,  1.1639e+00,  1.0067e+00,  6.4161e-01,  2.7921e-01,\n",
              "         -1.6236e+00,  1.1342e+00,  5.1730e-02,  1.6803e+00,  7.0418e-01,\n",
              "         -1.2627e+00,  5.4887e-01,  5.6817e-01, -7.4462e-01, -1.7714e+00,\n",
              "          1.2167e+00, -1.8058e-01,  8.4307e-01,  1.2123e+00, -1.0916e-01,\n",
              "          6.9747e-01,  8.7321e-02,  2.7111e-01,  1.1376e-01,  4.8185e-01,\n",
              "         -2.6601e-02, -8.6526e-01, -1.3261e-01, -8.3493e-01,  8.4376e-01,\n",
              "          1.9049e-01,  1.3919e+00,  4.6607e-01, -8.9639e-01, -5.5874e-01,\n",
              "          4.7297e-01, -1.3036e-01, -5.0730e-01,  5.8638e-01,  1.8442e+00,\n",
              "         -7.5017e-01,  1.6421e+00,  1.0420e+00,  1.2388e+00, -2.1279e-01,\n",
              "          5.4677e-01,  5.7533e-01, -6.8545e-01,  4.5892e-01,  7.7672e-01,\n",
              "         -1.4289e+00,  6.0543e-02, -1.1217e+00, -4.5234e-01, -6.2062e-01,\n",
              "         -4.4921e-01,  1.0688e+00,  7.0508e-01,  6.7921e-01, -8.6827e-01,\n",
              "          9.5490e-01,  1.5399e+00,  3.9960e-01, -5.2562e-01,  7.7609e-01,\n",
              "          1.9648e+00, -2.3708e-01, -2.8785e-03,  4.4336e-01,  6.8416e-01,\n",
              "         -2.9095e-01, -2.6071e-01,  2.7104e-02,  1.0567e+00,  2.9039e-01,\n",
              "          1.2186e+00,  1.0433e+00,  1.3881e-01, -6.7952e-01,  5.4423e-01,\n",
              "         -1.5675e-01,  5.8221e-01, -7.1959e-01, -5.8529e-01,  1.4678e+00,\n",
              "          2.3727e-01,  6.1517e-02,  1.4589e+00,  5.0177e-01, -8.0628e-01,\n",
              "          1.3411e+00, -7.8702e-01, -3.6223e-01,  1.6252e+00, -3.7939e-01,\n",
              "          3.6968e-01,  2.4663e+00, -1.0236e+00,  2.0203e+00, -1.3800e+00,\n",
              "          3.4239e-01, -1.7149e-01,  9.0571e-01,  1.0371e+00, -1.4152e-02,\n",
              "          1.2301e+00, -1.3644e-02,  1.7624e-01,  5.0272e-01,  8.9183e-01,\n",
              "          3.0447e-01,  2.4458e-01,  1.0631e+00,  7.2154e-01,  1.2302e+00,\n",
              "          5.6028e-01,  4.6567e-02,  8.3298e-02,  6.3548e-01,  7.1517e-01,\n",
              "         -6.6712e-01,  1.1531e+00, -3.0018e-01,  9.4244e-01, -2.3367e-01,\n",
              "         -1.1935e-01,  5.8197e-01,  2.8737e-01,  7.4787e-01,  1.4568e+00,\n",
              "          9.8246e-01,  3.5493e-01,  6.6702e-01, -1.4083e-01,  1.0628e+00,\n",
              "          5.5258e-01,  7.1446e-01,  1.3543e+00,  8.6381e-01,  1.0875e+00,\n",
              "          4.2718e-01,  5.4413e-01,  4.0420e-01,  1.3638e+00, -5.4193e-01,\n",
              "         -1.1497e+00, -7.9147e-01,  8.3467e-01,  8.7512e-01,  1.7667e+00,\n",
              "         -4.5133e-02,  5.2371e-01,  1.4604e+00,  3.2327e-01,  2.6001e-01,\n",
              "          9.0199e-01,  1.3865e+00,  1.8214e+00,  1.0444e+00,  4.8000e-01,\n",
              "          2.9362e-02,  1.2775e+00,  9.1763e-01, -1.1151e+00,  5.5175e-01,\n",
              "         -9.9492e-01,  2.7738e-01, -1.2385e+00, -1.0922e+00,  1.3136e+00,\n",
              "          1.4184e+00,  3.8400e-01,  4.3035e-01,  1.3831e+00, -2.8713e-01,\n",
              "         -6.8961e-01,  1.3776e+00, -5.8762e-02,  1.8458e+00, -1.3426e+00,\n",
              "         -4.0666e-01,  1.1448e-01, -9.6469e-01,  1.8473e+00,  3.4514e-01,\n",
              "         -1.4251e+00, -1.2845e+00,  4.9648e-01,  6.0764e-01,  8.8516e-01,\n",
              "         -1.0917e+00,  1.3822e-01,  1.0342e+00,  1.4851e+00, -5.8532e-01,\n",
              "          1.3226e+00,  5.1952e-01, -9.7335e-01, -7.2941e-01,  3.2235e-01,\n",
              "          3.0000e-01,  1.4697e+00,  1.5576e+00,  9.6477e-01, -8.8689e-01,\n",
              "          1.3448e+00,  5.1378e-01,  6.2387e-01,  6.3071e-01,  6.6431e-01,\n",
              "          1.5165e+00,  1.0409e+00, -4.0508e-01,  3.2247e-01,  9.7576e-01,\n",
              "          1.4864e+00,  1.5269e+00,  1.6248e+00, -6.5992e-01, -5.2803e-01,\n",
              "          1.1528e+00, -6.3208e-01, -1.3977e-01, -3.8466e-01,  1.2750e+00,\n",
              "          1.3107e-01,  1.4847e+00,  1.2419e+00,  2.0391e-01, -4.1671e-01,\n",
              "          6.6487e-01,  1.2125e-03, -3.1275e-01,  1.6066e+00, -2.2509e-01,\n",
              "          1.1318e+00, -1.6847e+00,  1.2357e+00, -1.1544e+00, -2.1711e+00,\n",
              "          5.4570e-01,  1.5219e+00,  2.6101e-02, -3.4100e-01,  1.3388e+00,\n",
              "          1.4218e+00, -3.2335e-01,  1.1923e+00,  1.6592e+00,  1.6707e-01,\n",
              "          2.8893e-01, -4.4599e-01, -1.2671e-01, -9.5555e-01,  2.6699e-01,\n",
              "         -1.8260e-01,  2.3417e-01,  7.4929e-01, -6.6614e-02, -6.5910e-01,\n",
              "         -5.9376e-01,  1.3098e+00,  7.7029e-01,  2.1388e+00,  2.1396e+00,\n",
              "         -7.8290e-01, -3.7703e-01,  1.6836e+00,  6.8070e-01,  9.5131e-01,\n",
              "          1.3430e-01, -4.1395e-01,  1.6538e+00, -1.0039e+00,  9.7124e-01,\n",
              "          1.2885e+00,  1.0104e+00,  8.7950e-01, -3.4894e-01, -2.0910e+00,\n",
              "         -5.2334e-01, -3.8468e-01,  3.6280e-01,  2.9180e-01,  1.7716e-01,\n",
              "          1.4787e-01,  9.2798e-01, -9.0548e-01,  3.2804e-01, -4.7512e-01,\n",
              "         -1.1299e+00, -1.1907e+00, -3.9391e-01, -1.3676e-01,  1.5603e+00,\n",
              "         -3.5090e-01, -1.4565e-01,  8.2909e-02, -2.1531e+00, -3.5467e-01,\n",
              "         -6.9516e-01,  3.9764e-01,  1.0542e-01, -2.4125e-01, -3.7232e-01,\n",
              "         -3.6988e-01, -9.7424e-01, -3.1757e-01, -1.0471e-01, -5.8783e-01,\n",
              "         -8.6976e-01, -1.0232e+00,  2.3059e-01,  6.1692e-01, -3.2317e-01,\n",
              "         -2.5960e-01, -9.0864e-01, -1.0059e+00,  1.3362e-01,  7.1985e-01,\n",
              "         -6.2616e-01, -5.2025e-01, -4.1080e-01,  2.1215e-02, -9.8449e-01,\n",
              "          3.1499e-01, -5.8802e-02, -5.6232e-01, -8.7665e-01, -1.4325e+00,\n",
              "         -2.1910e-01,  7.2208e-01, -7.7303e-01,  6.9057e-01,  4.8557e-02,\n",
              "         -3.1535e-01,  7.9799e-01, -5.4034e-01, -5.0477e-01, -2.1064e+00,\n",
              "          5.4840e-01, -1.8641e+00,  1.6989e-01, -2.5181e-01, -9.8840e-01,\n",
              "         -8.0082e-01,  2.9863e-01,  6.8258e-01, -2.0189e-01, -7.3709e-01,\n",
              "         -1.1847e+00, -2.1858e+00,  1.3236e+00, -5.0641e-01, -8.4251e-01,\n",
              "         -1.1163e-01, -1.3347e+00, -9.2607e-01, -2.1451e+00, -6.4393e-01,\n",
              "         -4.1907e-01, -3.2433e-02, -4.6143e-01,  1.1733e+00,  1.1259e+00]],\n",
              "       grad_fn=<AddmmBackward>)"
            ]
          },
          "metadata": {
            "tags": []
          },
          "execution_count": 65
        }
      ]
    },
    {
      "cell_type": "code",
      "metadata": {
        "id": "NyKRxXn9brGV"
      },
      "source": [
        "loss = (prediction - labels).sum()"
      ],
      "execution_count": null,
      "outputs": []
    },
    {
      "cell_type": "code",
      "metadata": {
        "id": "5bVpERhNbvFV"
      },
      "source": [
        "loss.backward()"
      ],
      "execution_count": null,
      "outputs": []
    },
    {
      "cell_type": "code",
      "metadata": {
        "id": "x7rTQDZQbv_b"
      },
      "source": [
        "optim = torch.optim.SGD(model.parameters(), lr=1e-2, momentum=0.9)"
      ],
      "execution_count": null,
      "outputs": []
    },
    {
      "cell_type": "code",
      "metadata": {
        "id": "esnX1V12b6DH"
      },
      "source": [
        "optim.step()"
      ],
      "execution_count": null,
      "outputs": []
    },
    {
      "cell_type": "code",
      "metadata": {
        "id": "6OkwI-IMb7I1"
      },
      "source": [
        "import torch\r\n",
        "\r\n",
        "a = torch.tensor([2., 3.], requires_grad=True)\r\n",
        "b = torch.tensor([6., 4.], requires_grad=True)"
      ],
      "execution_count": null,
      "outputs": []
    },
    {
      "cell_type": "code",
      "metadata": {
        "id": "qIJGMiSLcTig"
      },
      "source": [
        "Q = 3*a**3 - b**2"
      ],
      "execution_count": null,
      "outputs": []
    },
    {
      "cell_type": "code",
      "metadata": {
        "colab": {
          "base_uri": "https://localhost:8080/"
        },
        "id": "uPWeLU1TcWNZ",
        "outputId": "80f81623-7dae-4ee8-d91d-c42991802af6"
      },
      "source": [
        "Q"
      ],
      "execution_count": null,
      "outputs": [
        {
          "output_type": "execute_result",
          "data": {
            "text/plain": [
              "tensor([-12.,  65.], grad_fn=<SubBackward0>)"
            ]
          },
          "metadata": {
            "tags": []
          },
          "execution_count": 72
        }
      ]
    },
    {
      "cell_type": "code",
      "metadata": {
        "id": "-n2HF0gBcWtT"
      },
      "source": [
        "Q.sum().backward()"
      ],
      "execution_count": null,
      "outputs": []
    },
    {
      "cell_type": "code",
      "metadata": {
        "id": "muTRFdlgcmLg",
        "colab": {
          "base_uri": "https://localhost:8080/"
        },
        "outputId": "13af0145-3c4d-45be-e787-175a69e6600f"
      },
      "source": [
        "a.grad"
      ],
      "execution_count": null,
      "outputs": [
        {
          "output_type": "execute_result",
          "data": {
            "text/plain": [
              "tensor([36., 81.])"
            ]
          },
          "metadata": {
            "tags": []
          },
          "execution_count": 74
        }
      ]
    },
    {
      "cell_type": "code",
      "metadata": {
        "id": "D-o-3GATcnsZ",
        "colab": {
          "base_uri": "https://localhost:8080/"
        },
        "outputId": "7e8f7a5a-f7fc-4668-cd02-86f17fab937b"
      },
      "source": [
        "b.grad"
      ],
      "execution_count": null,
      "outputs": [
        {
          "output_type": "execute_result",
          "data": {
            "text/plain": [
              "tensor([-12.,  -8.])"
            ]
          },
          "metadata": {
            "tags": []
          },
          "execution_count": 75
        }
      ]
    },
    {
      "cell_type": "code",
      "metadata": {
        "id": "SjAdaILncpCe",
        "colab": {
          "base_uri": "https://localhost:8080/"
        },
        "outputId": "19a54244-e342-48c9-9cc7-3d0b287c99f5"
      },
      "source": [
        "9*a**2"
      ],
      "execution_count": null,
      "outputs": [
        {
          "output_type": "execute_result",
          "data": {
            "text/plain": [
              "tensor([36., 81.], grad_fn=<MulBackward0>)"
            ]
          },
          "metadata": {
            "tags": []
          },
          "execution_count": 76
        }
      ]
    },
    {
      "cell_type": "code",
      "metadata": {
        "id": "wXeSGOiJcqf_",
        "colab": {
          "base_uri": "https://localhost:8080/"
        },
        "outputId": "f1e93326-4a2e-4ee5-a242-eb49884a9e48"
      },
      "source": [
        "import torch\r\n",
        "import torch.nn as nn\r\n",
        "import torch.nn.functional as F\r\n",
        "\r\n",
        "class Net(nn.Module):\r\n",
        "    \r\n",
        "    def __init__(self):\r\n",
        "        super(Net, self).__init__()\r\n",
        "        self.conv1 = nn.Conv2d(1, 6, 3)\r\n",
        "        self.conv2 = nn.Conv2d(6, 16, 3)\r\n",
        "\r\n",
        "        self.fc1 = nn.Linear(16 * 6 * 6, 120)\r\n",
        "        self.fc2 = nn.Linear(120, 84)\r\n",
        "        self.fc3 = nn.Linear(84, 10)\r\n",
        "    \r\n",
        "    def forward(self, x):\r\n",
        "        x = F.max_pool2d(F.relu(self.conv1(x)), (2, 2))\r\n",
        "        x = F.max_pool2d(F.relu(self.conv2(x)), 2)\r\n",
        "        x = x.view(-1, self.num_flat_features(x))\r\n",
        "\r\n",
        "        x = F.relu(self.fc1(x))\r\n",
        "        x = F.relu(self.fc2(x))\r\n",
        "        x = self.fc3(x)\r\n",
        "        return x\r\n",
        "    \r\n",
        "    def num_flat_features(self, x):\r\n",
        "        size = x.size()[1:]  # all dimensions except the batch dimension\r\n",
        "        num_features = 1\r\n",
        "        for s in size:\r\n",
        "            num_features *= s\r\n",
        "        return num_features\r\n",
        "\r\n",
        "net = Net()\r\n",
        "print(net)"
      ],
      "execution_count": 1,
      "outputs": [
        {
          "output_type": "stream",
          "text": [
            "Net(\n",
            "  (conv1): Conv2d(1, 6, kernel_size=(3, 3), stride=(1, 1))\n",
            "  (conv2): Conv2d(6, 16, kernel_size=(3, 3), stride=(1, 1))\n",
            "  (fc1): Linear(in_features=576, out_features=120, bias=True)\n",
            "  (fc2): Linear(in_features=120, out_features=84, bias=True)\n",
            "  (fc3): Linear(in_features=84, out_features=10, bias=True)\n",
            ")\n"
          ],
          "name": "stdout"
        }
      ]
    },
    {
      "cell_type": "code",
      "metadata": {
        "id": "J7rvD0ynuEUj"
      },
      "source": [
        "params = list(net.parameters())"
      ],
      "execution_count": 2,
      "outputs": []
    },
    {
      "cell_type": "code",
      "metadata": {
        "colab": {
          "base_uri": "https://localhost:8080/"
        },
        "id": "p3le73t0uLFt",
        "outputId": "1f19b54b-b5bc-4353-d78f-944b20ed6d40"
      },
      "source": [
        "input = torch.randn(1, 1, 32, 32)\r\n",
        "out = net(input)\r\n",
        "print(out)"
      ],
      "execution_count": 3,
      "outputs": [
        {
          "output_type": "stream",
          "text": [
            "tensor([[-0.1306, -0.1101,  0.1938, -0.0507, -0.1354,  0.0871,  0.0167, -0.0606,\n",
            "         -0.0746,  0.0105]], grad_fn=<AddmmBackward>)\n"
          ],
          "name": "stdout"
        }
      ]
    },
    {
      "cell_type": "code",
      "metadata": {
        "colab": {
          "base_uri": "https://localhost:8080/"
        },
        "id": "bCjI1R_tueCJ",
        "outputId": "fba0eab1-254a-4ebd-d0b0-8b807d83166d"
      },
      "source": [
        "output = net(input)\r\n",
        "target = torch.randn(10)\r\n",
        "target = target.view(1, -1)\r\n",
        "criterion = nn.MSELoss()\r\n",
        "\r\n",
        "loss = criterion(output, target)\r\n",
        "print(loss)"
      ],
      "execution_count": 5,
      "outputs": [
        {
          "output_type": "stream",
          "text": [
            "tensor(0.5901, grad_fn=<MseLossBackward>)\n"
          ],
          "name": "stdout"
        }
      ]
    },
    {
      "cell_type": "code",
      "metadata": {
        "colab": {
          "base_uri": "https://localhost:8080/"
        },
        "id": "DKlOtuP0vF7m",
        "outputId": "173f9b55-6b34-4286-c281-c9611a06a5fa"
      },
      "source": [
        "loss.grad_fn"
      ],
      "execution_count": 6,
      "outputs": [
        {
          "output_type": "execute_result",
          "data": {
            "text/plain": [
              "<MseLossBackward at 0x7f2cc135a160>"
            ]
          },
          "metadata": {
            "tags": []
          },
          "execution_count": 6
        }
      ]
    },
    {
      "cell_type": "code",
      "metadata": {
        "colab": {
          "base_uri": "https://localhost:8080/"
        },
        "id": "uGxquEAKvKy1",
        "outputId": "fe26a489-142c-48dc-807d-77d76c03b57d"
      },
      "source": [
        "loss.grad_fn.next_functions[0][0]"
      ],
      "execution_count": 9,
      "outputs": [
        {
          "output_type": "execute_result",
          "data": {
            "text/plain": [
              "<AddmmBackward at 0x7f2cc135a898>"
            ]
          },
          "metadata": {
            "tags": []
          },
          "execution_count": 9
        }
      ]
    },
    {
      "cell_type": "code",
      "metadata": {
        "colab": {
          "base_uri": "https://localhost:8080/"
        },
        "id": "EyXQ9r18vNdN",
        "outputId": "4d6b07d5-bfb5-4f4c-ec79-68db73bf0fd2"
      },
      "source": [
        "loss.grad_fn.next_functions[0][0].next_functions[0][0]"
      ],
      "execution_count": 10,
      "outputs": [
        {
          "output_type": "execute_result",
          "data": {
            "text/plain": [
              "<AccumulateGrad at 0x7f2cc135a5f8>"
            ]
          },
          "metadata": {
            "tags": []
          },
          "execution_count": 10
        }
      ]
    },
    {
      "cell_type": "code",
      "metadata": {
        "colab": {
          "base_uri": "https://localhost:8080/"
        },
        "id": "O6HeiR8xvTQx",
        "outputId": "9d21c28f-9c86-4654-e07a-a917a87f1650"
      },
      "source": [
        "net.zero_grad()\r\n",
        "print('conv1.bias.grad before backward')\r\n",
        "print(net.conv1.bias.grad)"
      ],
      "execution_count": 11,
      "outputs": [
        {
          "output_type": "stream",
          "text": [
            "conv1.bias.grad before backward\n",
            "tensor([0., 0., 0., 0., 0., 0.])\n"
          ],
          "name": "stdout"
        }
      ]
    },
    {
      "cell_type": "code",
      "metadata": {
        "colab": {
          "base_uri": "https://localhost:8080/"
        },
        "id": "w2vhC19uvai_",
        "outputId": "91d37101-722c-4541-d3ba-c34563b5274f"
      },
      "source": [
        "loss.backward()\r\n",
        "\r\n",
        "print('conv1.bias.grad after backward')\r\n",
        "print(net.conv1.bias.grad)"
      ],
      "execution_count": 12,
      "outputs": [
        {
          "output_type": "stream",
          "text": [
            "conv1.bias.grad after backward\n",
            "tensor([ 0.0104,  0.0095, -0.0054, -0.0124, -0.0003, -0.0079])\n"
          ],
          "name": "stdout"
        }
      ]
    },
    {
      "cell_type": "code",
      "metadata": {
        "id": "l3e7yNqOvfv8"
      },
      "source": [
        "learning_rate = 0.01\r\n",
        "for f in net.parameters():\r\n",
        "    f.data -= f.grad.data * learning_rate"
      ],
      "execution_count": 20,
      "outputs": []
    },
    {
      "cell_type": "code",
      "metadata": {
        "id": "Udru_50nvyxt"
      },
      "source": [
        "import torch\r\n",
        "import torchvision\r\n",
        "import torchvision.transforms as transforms"
      ],
      "execution_count": 21,
      "outputs": []
    },
    {
      "cell_type": "code",
      "metadata": {
        "colab": {
          "base_uri": "https://localhost:8080/"
        },
        "id": "ZsdDwbupwWAy",
        "outputId": "8af92f88-1691-4848-efb3-0fb5d3ef355c"
      },
      "source": [
        "transform = transforms.Compose(\r\n",
        "    [transforms.ToTensor(),\r\n",
        "     transforms.Normalize((0.5, 0.5, 0.5), (0.5, 0.5, 0.5))]\r\n",
        ")\r\n",
        "\r\n",
        "trainset = torchvision.datasets.CIFAR10(root='./data', train=True, download=True, transform=transform)\r\n",
        "trainloader = torch.utils.data.DataLoader(trainset, batch_size=4, shuffle=True, num_workers=2)"
      ],
      "execution_count": 23,
      "outputs": [
        {
          "output_type": "stream",
          "text": [
            "Files already downloaded and verified\n"
          ],
          "name": "stdout"
        }
      ]
    },
    {
      "cell_type": "code",
      "metadata": {
        "colab": {
          "base_uri": "https://localhost:8080/"
        },
        "id": "3nqzStDuwqBr",
        "outputId": "20eb5c88-7886-4fd6-a9a9-ad404d621286"
      },
      "source": [
        "testset = torchvision.datasets.CIFAR10(root='./data', train=False,\r\n",
        "                                       download=True, transform=transform)\r\n",
        "testloader = torch.utils.data.DataLoader(testset, batch_size=4,\r\n",
        "                                         shuffle=False, num_workers=2)"
      ],
      "execution_count": 24,
      "outputs": [
        {
          "output_type": "stream",
          "text": [
            "Files already downloaded and verified\n"
          ],
          "name": "stdout"
        }
      ]
    },
    {
      "cell_type": "code",
      "metadata": {
        "id": "_GkA2x2OxCte"
      },
      "source": [
        "classes = ('plane', 'car', 'bird', 'cat', 'deer', 'dog', 'frog', 'horse', 'ship', 'truck')"
      ],
      "execution_count": 25,
      "outputs": []
    },
    {
      "cell_type": "code",
      "metadata": {
        "id": "jry7qPXYxLbi"
      },
      "source": [
        "import matplotlib.pyplot as plt\r\n",
        "import numpy as np\r\n",
        "\r\n",
        "def imshow(img):\r\n",
        "    img = img / 2 + 0.5\r\n",
        "    npimg = img.numpy()\r\n",
        "    plt.imshow(np.transpose(npimg, (1, 2, 0)))\r\n",
        "    plt.show()\r\n"
      ],
      "execution_count": 34,
      "outputs": []
    },
    {
      "cell_type": "code",
      "metadata": {
        "id": "qdSEJrB8xlqf"
      },
      "source": [
        "dataiter = iter(trainloader)\r\n",
        "images, labels = dataiter.next()"
      ],
      "execution_count": 35,
      "outputs": []
    },
    {
      "cell_type": "code",
      "metadata": {
        "colab": {
          "base_uri": "https://localhost:8080/",
          "height": 172
        },
        "id": "292b6kGJxpza",
        "outputId": "a79dfdc2-5602-44a8-8451-70ca0eef18fb"
      },
      "source": [
        "# show images\r\n",
        "imshow(torchvision.utils.make_grid(images))\r\n",
        "# print labels\r\n",
        "print(' '.join('%5s' % classes[labels[j]] for j in range(4)))"
      ],
      "execution_count": 36,
      "outputs": [
        {
          "output_type": "stream",
          "text": [
            "(36, 138, 3)\n"
          ],
          "name": "stdout"
        },
        {
          "output_type": "display_data",
          "data": {
            "image/png": "[encoded data removed]",
            "text/plain": [
              "<Figure size 432x288 with 1 Axes>"
            ]
          },
          "metadata": {
            "tags": [],
            "needs_background": "light"
          }
        },
        {
          "output_type": "stream",
          "text": [
            " frog   car  bird   car\n"
          ],
          "name": "stdout"
        }
      ]
    },
    {
      "cell_type": "code",
      "metadata": {
        "id": "g5MOPa5UxteP"
      },
      "source": [
        ""
      ],
      "execution_count": null,
      "outputs": []
    }
  ]
}